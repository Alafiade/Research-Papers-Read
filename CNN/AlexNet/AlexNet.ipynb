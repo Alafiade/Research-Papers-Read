{
  "metadata": {
    "kernelspec": {
      "language": "python",
      "display_name": "Python 3",
      "name": "python3"
    },
    "language_info": {
      "name": "python",
      "version": "3.11.13",
      "mimetype": "text/x-python",
      "codemirror_mode": {
        "name": "ipython",
        "version": 3
      },
      "pygments_lexer": "ipython3",
      "nbconvert_exporter": "python",
      "file_extension": ".py"
    },
    "kaggle": {
      "accelerator": "nvidiaTeslaT4",
      "dataSources": [],
      "dockerImageVersionId": 31090,
      "isInternetEnabled": true,
      "language": "python",
      "sourceType": "notebook",
      "isGpuEnabled": true
    },
    "colab": {
      "name": "AlexNet",
      "provenance": []
    }
  },
  "nbformat_minor": 0,
  "nbformat": 4,
  "cells": [
    {
      "cell_type": "markdown",
      "source": [
        "#"
      ],
      "metadata": {
        "id": "_grqNofMY64b"
      }
    },
    {
      "cell_type": "code",
      "source": [
        "import torch\n",
        "import torch.nn as nn\n",
        "import torch.optim as optim\n",
        "import torchvision.transforms as transforms\n",
        "from torch.utils.data import DataLoader\n",
        "from torchvision.datasets import CIFAR10"
      ],
      "metadata": {
        "_uuid": "8f2839f25d086af736a60e9eeb907d3b93b6e0e5",
        "_cell_guid": "b1076dfc-b9ad-4769-8c92-a6c4dae69d19",
        "trusted": true,
        "execution": {
          "iopub.status.busy": "2025-08-30T20:52:31.203935Z",
          "iopub.execute_input": "2025-08-30T20:52:31.204169Z",
          "iopub.status.idle": "2025-08-30T20:52:38.546954Z",
          "shell.execute_reply.started": "2025-08-30T20:52:31.204145Z",
          "shell.execute_reply": "2025-08-30T20:52:38.546325Z"
        },
        "id": "wRs5Z21WY64o"
      },
      "outputs": [],
      "execution_count": null
    },
    {
      "cell_type": "code",
      "source": [
        "class Alexnet(nn.Module):\n",
        "    def __init__(self, num_classes=10): # Using Tiny imagenet with 200 classes\n",
        "        super().__init__()\n",
        "        self.net = nn.Sequential(\n",
        "            #FIRST CONVOLUTIONAL LAYER\n",
        "            nn.Conv2d(in_channels=3,out_channels=96,kernel_size=11, stride=4),\n",
        "            nn.ReLU(),\n",
        "            nn.LocalResponseNorm(size=5, alpha=0.0001,beta=0.75,k=2),\n",
        "            nn.MaxPool2d(kernel_size=3, stride=2),\n",
        "\n",
        "            #SECOND CONVOLUTIONAL LAYER\n",
        "            nn.Conv2d(in_channels =96, out_channels=256, kernel_size=5, stride=1,padding=2),\n",
        "            nn.ReLU(),\n",
        "            nn.LocalResponseNorm(size=5, alpha=0.0001, beta=0.75, k=2),\n",
        "            nn.MaxPool2d(kernel_size=3, stride=2),\n",
        "\n",
        "\n",
        "            #THIRD CONVOLUTIONAL LAYER\n",
        "            nn.Conv2d(in_channels=256, out_channels=384, kernel_size=3, stride=1, padding=1),\n",
        "            nn.ReLU(),\n",
        "\n",
        "            nn.Conv2d(in_channels=384, out_channels=384, kernel_size=3, stride=1, padding=1),  #13*13*384\n",
        "            nn.ReLU(),\n",
        "\n",
        "            #Fifth Convolutional layer\n",
        "            nn.Conv2d(in_channels=384, out_channels=256, kernel_size=3 , stride=1, padding=1), #13*13*256\n",
        "            nn.ReLU(),\n",
        "            nn.MaxPool2d(kernel_size=3, stride=2),\n",
        "\n",
        "        )\n",
        "        self.classifier = nn.Sequential(\n",
        "        nn.Dropout(p=0.5),\n",
        "        nn.Linear(in_features=(256*6*6), out_features=4096),  #6*6*256- #4096\n",
        "        nn.ReLU(),\n",
        "\n",
        "        nn.Dropout(p=0.5),\n",
        "        nn.Linear(in_features=4096, out_features=4096),\n",
        "        nn.ReLU(),\n",
        "\n",
        "        nn.Linear(in_features=4096, out_features= num_classes),\n",
        "    )\n",
        "\n",
        "\n",
        "    def init_bias (self):\n",
        "        for layer in self.net:\n",
        "            if isinstance(layer, nn.Conv2d):\n",
        "                nn.init.normal_(layer.weight, mean=0, std=0.01)\n",
        "                nn.init.constant_(self.net[4].bias,1)\n",
        "                nn.init.constant_(self.net[10].bias,1)\n",
        "                nn.init.constant_(self.net[12].bias,1)\n",
        "\n",
        "    def forward(self,x):\n",
        "        x = self.net(x)\n",
        "        x= x.view(-1,256*6*6) #Flattens the feaure map into a 1D vector\n",
        "        return self.classifier(x)\n",
        "\n",
        "\n",
        "\n",
        "\n",
        "\n",
        "\n"
      ],
      "metadata": {
        "trusted": true,
        "execution": {
          "iopub.status.busy": "2025-08-30T20:52:47.440168Z",
          "iopub.execute_input": "2025-08-30T20:52:47.440922Z",
          "iopub.status.idle": "2025-08-30T20:52:47.450013Z",
          "shell.execute_reply.started": "2025-08-30T20:52:47.440895Z",
          "shell.execute_reply": "2025-08-30T20:52:47.449154Z"
        },
        "id": "SA-i0cbgY64t"
      },
      "outputs": [],
      "execution_count": null
    },
    {
      "cell_type": "code",
      "source": [
        "train_transform = transforms.Compose([\n",
        "    transforms.Resize((227,227)),\n",
        "    transforms.RandomHorizontalFlip(p=0.5),\n",
        "    transforms.RandomRotation(degrees=15),\n",
        "    transforms.ColorJitter(brightness=0.2, contrast=0.2,saturation=0.2, hue=0.1),\n",
        "    transforms.ToTensor(),\n",
        "    transforms.Normalize(mean=[0.4914,0.4822,0.4465],std=[0.2470,0.2435,0.2616]),\n",
        "])\n",
        "\n",
        "test_transform = transforms.Compose([\n",
        "    transforms.Resize((227,227)),\n",
        "    transforms.ToTensor(),\n",
        "    transforms.Normalize(mean=[0.4914,0.4822,0.4465], std=[0.2470,0.2435,0.2616])\n",
        "])\n",
        "\n",
        "train_dataset = CIFAR10(\n",
        "    root = './data',\n",
        "    train = True,\n",
        "    transform = train_transform,\n",
        "    download = True,\n",
        ")\n",
        "\n",
        "test_dataset = CIFAR10(\n",
        "    root= './data',\n",
        "    train =  False,\n",
        "    transform = test_transform,\n",
        "    download = True\n",
        ")\n",
        "\n",
        "train_loader = DataLoader(train_dataset, batch_size=64, shuffle=True)\n",
        "test_loader = DataLoader(test_dataset, batch_size=64, shuffle=False)"
      ],
      "metadata": {
        "trusted": true,
        "execution": {
          "iopub.status.busy": "2025-08-30T21:01:23.251997Z",
          "iopub.execute_input": "2025-08-30T21:01:23.252341Z",
          "iopub.status.idle": "2025-08-30T21:01:24.921422Z",
          "shell.execute_reply.started": "2025-08-30T21:01:23.252317Z",
          "shell.execute_reply": "2025-08-30T21:01:24.920824Z"
        },
        "id": "3BFMy_d8Y64x"
      },
      "outputs": [],
      "execution_count": null
    },
    {
      "cell_type": "code",
      "source": [
        "device = torch.device('cuda' if torch.cuda.is_available()else 'cpu')"
      ],
      "metadata": {
        "trusted": true,
        "execution": {
          "iopub.status.busy": "2025-08-30T20:58:34.828941Z",
          "iopub.execute_input": "2025-08-30T20:58:34.829224Z",
          "iopub.status.idle": "2025-08-30T20:58:34.833004Z",
          "shell.execute_reply.started": "2025-08-30T20:58:34.829203Z",
          "shell.execute_reply": "2025-08-30T20:58:34.832327Z"
        },
        "id": "JA3SsgPDY641"
      },
      "outputs": [],
      "execution_count": null
    },
    {
      "cell_type": "code",
      "source": [
        "alexnet = Alexnet(num_classes=10).to(device)"
      ],
      "metadata": {
        "trusted": true,
        "execution": {
          "iopub.status.busy": "2025-08-30T20:58:38.369096Z",
          "iopub.execute_input": "2025-08-30T20:58:38.369375Z",
          "iopub.status.idle": "2025-08-30T20:58:38.947759Z",
          "shell.execute_reply.started": "2025-08-30T20:58:38.369354Z",
          "shell.execute_reply": "2025-08-30T20:58:38.946851Z"
        },
        "id": "25kDcKMTY643"
      },
      "outputs": [],
      "execution_count": null
    },
    {
      "cell_type": "code",
      "source": [
        "print(alexnet)"
      ],
      "metadata": {
        "trusted": true,
        "execution": {
          "iopub.status.busy": "2025-08-30T20:58:42.285779Z",
          "iopub.execute_input": "2025-08-30T20:58:42.286068Z",
          "iopub.status.idle": "2025-08-30T20:58:42.290524Z",
          "shell.execute_reply.started": "2025-08-30T20:58:42.286037Z",
          "shell.execute_reply": "2025-08-30T20:58:42.289682Z"
        },
        "id": "T4dyi8raY645",
        "outputId": "52c44764-107f-467c-ca7e-00f3795ce6d7"
      },
      "outputs": [
        {
          "name": "stdout",
          "text": "Alexnet(\n  (net): Sequential(\n    (0): Conv2d(3, 96, kernel_size=(11, 11), stride=(4, 4))\n    (1): ReLU()\n    (2): LocalResponseNorm(5, alpha=0.0001, beta=0.75, k=2)\n    (3): MaxPool2d(kernel_size=3, stride=2, padding=0, dilation=1, ceil_mode=False)\n    (4): Conv2d(96, 256, kernel_size=(5, 5), stride=(1, 1), padding=(2, 2))\n    (5): ReLU()\n    (6): LocalResponseNorm(5, alpha=0.0001, beta=0.75, k=2)\n    (7): MaxPool2d(kernel_size=3, stride=2, padding=0, dilation=1, ceil_mode=False)\n    (8): Conv2d(256, 384, kernel_size=(3, 3), stride=(1, 1), padding=(1, 1))\n    (9): ReLU()\n    (10): Conv2d(384, 384, kernel_size=(3, 3), stride=(1, 1), padding=(1, 1))\n    (11): ReLU()\n    (12): Conv2d(384, 256, kernel_size=(3, 3), stride=(1, 1), padding=(1, 1))\n    (13): ReLU()\n    (14): MaxPool2d(kernel_size=3, stride=2, padding=0, dilation=1, ceil_mode=False)\n  )\n  (classifier): Sequential(\n    (0): Dropout(p=0.5, inplace=False)\n    (1): Linear(in_features=9216, out_features=4096, bias=True)\n    (2): ReLU()\n    (3): Dropout(p=0.5, inplace=False)\n    (4): Linear(in_features=4096, out_features=4096, bias=True)\n    (5): ReLU()\n    (6): Linear(in_features=4096, out_features=10, bias=True)\n  )\n)\n",
          "output_type": "stream"
        }
      ],
      "execution_count": null
    },
    {
      "cell_type": "code",
      "source": [
        "alexnet.init_bias()"
      ],
      "metadata": {
        "trusted": true,
        "execution": {
          "iopub.status.busy": "2025-08-30T20:58:46.636971Z",
          "iopub.execute_input": "2025-08-30T20:58:46.637561Z",
          "iopub.status.idle": "2025-08-30T20:58:46.642004Z",
          "shell.execute_reply.started": "2025-08-30T20:58:46.637511Z",
          "shell.execute_reply": "2025-08-30T20:58:46.641267Z"
        },
        "id": "yRsH7NfgY64-"
      },
      "outputs": [],
      "execution_count": null
    },
    {
      "cell_type": "code",
      "source": [
        "criterion= nn.CrossEntropyLoss()"
      ],
      "metadata": {
        "trusted": true,
        "execution": {
          "iopub.status.busy": "2025-08-30T20:58:49.888919Z",
          "iopub.execute_input": "2025-08-30T20:58:49.889197Z",
          "iopub.status.idle": "2025-08-30T20:58:49.892892Z",
          "shell.execute_reply.started": "2025-08-30T20:58:49.889177Z",
          "shell.execute_reply": "2025-08-30T20:58:49.892075Z"
        },
        "id": "vKZ2JDDCY65B"
      },
      "outputs": [],
      "execution_count": null
    },
    {
      "cell_type": "code",
      "source": [
        "optimizer= optim.Adam(alexnet.parameters(),lr=0.0001)"
      ],
      "metadata": {
        "trusted": true,
        "execution": {
          "iopub.status.busy": "2025-08-30T20:58:55.458976Z",
          "iopub.execute_input": "2025-08-30T20:58:55.459687Z",
          "iopub.status.idle": "2025-08-30T20:58:55.4633Z",
          "shell.execute_reply.started": "2025-08-30T20:58:55.459661Z",
          "shell.execute_reply": "2025-08-30T20:58:55.462708Z"
        },
        "id": "UiYrXXPKY65E"
      },
      "outputs": [],
      "execution_count": null
    },
    {
      "cell_type": "code",
      "source": [
        "scheduler = torch.optim.lr_scheduler.StepLR(optimizer, step_size=30, gamma=0.1)"
      ],
      "metadata": {
        "trusted": true,
        "execution": {
          "iopub.status.busy": "2025-08-30T20:59:00.817817Z",
          "iopub.execute_input": "2025-08-30T20:59:00.818513Z",
          "iopub.status.idle": "2025-08-30T20:59:00.82242Z",
          "shell.execute_reply.started": "2025-08-30T20:59:00.81849Z",
          "shell.execute_reply": "2025-08-30T20:59:00.82171Z"
        },
        "id": "LzV09xxHY65G"
      },
      "outputs": [],
      "execution_count": null
    },
    {
      "cell_type": "code",
      "source": [
        "num_epochs = 90\n",
        "\n",
        "for epoch in range(num_epochs):\n",
        "    alexnet.train()\n",
        "    running_loss = 0.0\n",
        "    correct = 0\n",
        "    total = 0\n",
        "\n",
        "    for images, labels in train_loader:\n",
        "        images, labels = images.to(device), labels.to(device)\n",
        "\n",
        "        optimizer.zero_grad()\n",
        "        outputs = alexnet(images)\n",
        "        loss = criterion(outputs, labels)\n",
        "        loss.backward()\n",
        "        optimizer.step()\n",
        "\n",
        "        running_loss += loss.item()\n",
        "        _, predicted = outputs.max(1)\n",
        "        total += labels.size(0)\n",
        "        correct += predicted.eq(labels).sum().item()\n",
        "\n",
        "    # training stats\n",
        "    train_acc = 100. * correct / total\n",
        "    train_loss = running_loss / len(train_loader)\n",
        "    print(f'Epoch [{epoch+1}/{num_epochs}] | Loss: {train_loss:.4f} | Acc: {train_acc:.2f}%')\n",
        "\n",
        "    scheduler.step()\n",
        "\n",
        "    # validation\n",
        "    alexnet.eval()\n",
        "    val_loss = 0.0\n",
        "    val_correct = 0\n",
        "    val_total = 0\n",
        "\n",
        "    with torch.no_grad():\n",
        "        for images, labels in test_loader:\n",
        "            images, labels = images.to(device), labels.to(device)\n",
        "            outputs = alexnet(images)\n",
        "            loss = criterion(outputs, labels)\n",
        "            val_loss += loss.item()\n",
        "            _, predicted = outputs.max(1)\n",
        "            val_total += labels.size(0)\n",
        "            val_correct += predicted.eq(labels).sum().item()\n",
        "\n",
        "    val_acc = 100. * val_correct / val_total\n",
        "    val_loss = val_loss / len(test_loader)\n",
        "\n",
        "    print(f'Validation | Loss: {val_loss:.4f} | Acc: {val_acc:.2f}%')\n"
      ],
      "metadata": {
        "trusted": true,
        "execution": {
          "iopub.status.busy": "2025-08-30T21:01:34.727155Z",
          "iopub.execute_input": "2025-08-30T21:01:34.727452Z",
          "execution_failed": "2025-08-31T19:08:51.317Z"
        },
        "id": "h7IB8VuzY65I",
        "outputId": "f4ee7090-d0d6-47a7-a2fe-61b7e1876f9b"
      },
      "outputs": [
        {
          "name": "stdout",
          "text": "Epoch [1/90] | Loss: 1.9015 | Acc: 28.68%\nValidation | Loss: 1.5398 | Acc: 41.77%\nEpoch [2/90] | Loss: 1.5080 | Acc: 45.06%\nValidation | Loss: 1.2480 | Acc: 54.73%\nEpoch [3/90] | Loss: 1.2925 | Acc: 53.96%\nValidation | Loss: 1.0892 | Acc: 61.81%\nEpoch [4/90] | Loss: 1.1319 | Acc: 59.84%\nValidation | Loss: 0.9564 | Acc: 66.16%\nEpoch [5/90] | Loss: 1.0043 | Acc: 64.57%\nValidation | Loss: 0.9195 | Acc: 67.67%\nEpoch [6/90] | Loss: 0.9211 | Acc: 67.75%\nValidation | Loss: 0.8162 | Acc: 71.65%\nEpoch [7/90] | Loss: 0.8432 | Acc: 70.27%\nValidation | Loss: 0.7225 | Acc: 75.06%\nEpoch [8/90] | Loss: 0.7777 | Acc: 72.59%\nValidation | Loss: 0.6809 | Acc: 75.82%\nEpoch [9/90] | Loss: 0.7227 | Acc: 74.72%\nValidation | Loss: 0.6663 | Acc: 77.21%\nEpoch [10/90] | Loss: 0.6732 | Acc: 76.46%\nValidation | Loss: 0.6119 | Acc: 79.06%\nEpoch [11/90] | Loss: 0.6331 | Acc: 77.86%\nValidation | Loss: 0.5876 | Acc: 79.64%\nEpoch [12/90] | Loss: 0.5952 | Acc: 79.25%\nValidation | Loss: 0.5681 | Acc: 80.86%\nEpoch [13/90] | Loss: 0.5580 | Acc: 80.56%\nValidation | Loss: 0.5638 | Acc: 80.67%\nEpoch [14/90] | Loss: 0.5283 | Acc: 81.75%\nValidation | Loss: 0.5268 | Acc: 81.60%\nEpoch [15/90] | Loss: 0.4937 | Acc: 82.79%\nValidation | Loss: 0.5001 | Acc: 83.06%\n",
          "output_type": "stream"
        }
      ],
      "execution_count": null
    }
  ]
}