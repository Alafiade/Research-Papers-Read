{
  "nbformat": 4,
  "nbformat_minor": 0,
  "metadata": {
    "colab": {
      "provenance": [],
      "authorship_tag": "ABX9TyMo1KsaCknMQpD36RW/LMld",
      "include_colab_link": true
    },
    "kernelspec": {
      "name": "python3",
      "display_name": "Python 3"
    },
    "language_info": {
      "name": "python"
    }
  },
  "cells": [
    {
      "cell_type": "markdown",
      "metadata": {
        "id": "view-in-github",
        "colab_type": "text"
      },
      "source": [
        "<a href=\"https://colab.research.google.com/github/Alafiade/Research-Papers-Read/blob/main/Activation_Function_Comparison.ipynb\" target=\"_parent\"><img src=\"https://colab.research.google.com/assets/colab-badge.svg\" alt=\"Open In Colab\"/></a>"
      ]
    },
    {
      "cell_type": "markdown",
      "source": [
        "**Importing Necessary Libraries**\n",
        "\n",
        "\n",
        "\n"
      ],
      "metadata": {
        "id": "KWdTGAu3PIaO"
      }
    },
    {
      "cell_type": "code",
      "execution_count": 1,
      "metadata": {
        "id": "hV5U93j0MfuZ"
      },
      "outputs": [],
      "source": [
        "import torch\n",
        "from torch import nn\n",
        "from torchvision import datasets\n",
        "from torch.utils.data import DataLoader\n",
        "from torchvision.transforms import ToTensor\n"
      ]
    },
    {
      "cell_type": "markdown",
      "source": [
        "**Downloading the CIFAR 10 Dataset.**\n",
        "\n",
        "\n",
        "\n"
      ],
      "metadata": {
        "id": "Bj2OPDxiPPcn"
      }
    },
    {
      "cell_type": "code",
      "source": [
        "training_data = datasets.MNIST(\n",
        "    root='data',\n",
        "    train = True,\n",
        "    download= True,\n",
        "    transform= ToTensor()\n",
        ")\n",
        "\n",
        "\n",
        "testing_data = datasets.MNIST(\n",
        "    root='data',\n",
        "    train = False,\n",
        "    download=True,\n",
        "    transform = ToTensor()\n",
        ")"
      ],
      "metadata": {
        "colab": {
          "base_uri": "https://localhost:8080/"
        },
        "id": "qT16mrIwOlil",
        "outputId": "ed7cdcaf-d27c-4a9a-a025-b625c4494c27"
      },
      "execution_count": 2,
      "outputs": [
        {
          "output_type": "stream",
          "name": "stderr",
          "text": [
            "100%|██████████| 9.91M/9.91M [00:00<00:00, 92.4MB/s]\n",
            "100%|██████████| 28.9k/28.9k [00:00<00:00, 17.6MB/s]\n",
            "100%|██████████| 1.65M/1.65M [00:00<00:00, 101MB/s]\n",
            "100%|██████████| 4.54k/4.54k [00:00<00:00, 5.07MB/s]\n"
          ]
        }
      ]
    },
    {
      "cell_type": "code",
      "source": [
        "training_dataloader = DataLoader(training_data, batch_size=64)\n",
        "testing_dataloader = DataLoader(testing_data,batch_size=64)"
      ],
      "metadata": {
        "id": "EdSpBu9JPfGm"
      },
      "execution_count": 3,
      "outputs": []
    },
    {
      "cell_type": "markdown",
      "source": [
        "**Summary of Dataset**"
      ],
      "metadata": {
        "id": "XZIHJGzMQJWc"
      }
    },
    {
      "cell_type": "code",
      "source": [
        "testing_data, training_data"
      ],
      "metadata": {
        "colab": {
          "base_uri": "https://localhost:8080/"
        },
        "id": "7OrQIWfGP9ZA",
        "outputId": "43529718-b087-46a1-cfea-83551754900c"
      },
      "execution_count": 4,
      "outputs": [
        {
          "output_type": "execute_result",
          "data": {
            "text/plain": [
              "(Dataset MNIST\n",
              "     Number of datapoints: 10000\n",
              "     Root location: data\n",
              "     Split: Test\n",
              "     StandardTransform\n",
              " Transform: ToTensor(),\n",
              " Dataset MNIST\n",
              "     Number of datapoints: 60000\n",
              "     Root location: data\n",
              "     Split: Train\n",
              "     StandardTransform\n",
              " Transform: ToTensor())"
            ]
          },
          "metadata": {},
          "execution_count": 4
        }
      ]
    },
    {
      "cell_type": "markdown",
      "source": [
        "**LeNet5 architecture with Tanh**"
      ],
      "metadata": {
        "id": "XU-zJzZkATWD"
      }
    },
    {
      "cell_type": "code",
      "source": [
        "class LeNet5tanh(nn.Module):\n",
        "  def __init__(self):\n",
        "    super().__init__()\n",
        "    self.feature = nn.Sequential(\n",
        "        #First layer\n",
        "        nn.Conv2d(in_channels=1, out_channels=6,kernel_size=5,stride=1,padding=2),\n",
        "        nn.Tanh(),\n",
        "        nn.AvgPool2d(kernel_size=2, stride=2),\n",
        "\n",
        "        # Second layer\n",
        "        nn.Conv2d(in_channels=6, out_channels=16, kernel_size=5,stride=1),\n",
        "        nn.Tanh(),\n",
        "        nn.AvgPool2d(kernel_size=2,stride=2),\n",
        "\n",
        "    )\n",
        "\n",
        "    self.classifier = nn.Sequential(\n",
        "        nn.Flatten(),\n",
        "        nn.Linear(in_features =16*5*5, out_features=120),\n",
        "        nn.Tanh(),\n",
        "        nn.Linear(in_features=120,out_features=84),\n",
        "        nn.Tanh(),\n",
        "        nn.Linear(in_features=84,out_features=10),\n",
        "    )\n",
        "\n",
        "  def forward(self,x):\n",
        "    return self.classifier(self.feature(x))\n",
        "\n",
        "model = LeNet5tanh()"
      ],
      "metadata": {
        "id": "ZMRH-n1pQv6m"
      },
      "execution_count": 5,
      "outputs": []
    },
    {
      "cell_type": "code",
      "source": [
        "from torchsummary import summary\n",
        "summary(model, input_size=(1,28,28))"
      ],
      "metadata": {
        "colab": {
          "base_uri": "https://localhost:8080/"
        },
        "id": "7VB6DkB4YGV5",
        "outputId": "422fc920-db42-4edb-837a-b01cb4b248ef"
      },
      "execution_count": 7,
      "outputs": [
        {
          "output_type": "stream",
          "name": "stdout",
          "text": [
            "----------------------------------------------------------------\n",
            "        Layer (type)               Output Shape         Param #\n",
            "================================================================\n",
            "            Conv2d-1            [-1, 6, 28, 28]             156\n",
            "              Tanh-2            [-1, 6, 28, 28]               0\n",
            "         AvgPool2d-3            [-1, 6, 14, 14]               0\n",
            "            Conv2d-4           [-1, 16, 10, 10]           2,416\n",
            "              Tanh-5           [-1, 16, 10, 10]               0\n",
            "         AvgPool2d-6             [-1, 16, 5, 5]               0\n",
            "           Flatten-7                  [-1, 400]               0\n",
            "            Linear-8                  [-1, 120]          48,120\n",
            "              Tanh-9                  [-1, 120]               0\n",
            "           Linear-10                   [-1, 84]          10,164\n",
            "             Tanh-11                   [-1, 84]               0\n",
            "           Linear-12                   [-1, 10]             850\n",
            "================================================================\n",
            "Total params: 61,706\n",
            "Trainable params: 61,706\n",
            "Non-trainable params: 0\n",
            "----------------------------------------------------------------\n",
            "Input size (MB): 0.00\n",
            "Forward/backward pass size (MB): 0.11\n",
            "Params size (MB): 0.24\n",
            "Estimated Total Size (MB): 0.35\n",
            "----------------------------------------------------------------\n"
          ]
        }
      ]
    },
    {
      "cell_type": "markdown",
      "source": [
        "**Defining optimizer and loss function**"
      ],
      "metadata": {
        "id": "SaMuyj32TeRq"
      }
    },
    {
      "cell_type": "markdown",
      "source": [],
      "metadata": {
        "id": "rk6Zzw9HTjf5"
      }
    },
    {
      "cell_type": "code",
      "source": [
        "optimizer = torch.optim.Adam(model.parameters(), lr=0.001)"
      ],
      "metadata": {
        "id": "fi8AeLOtZdF6"
      },
      "execution_count": 8,
      "outputs": []
    },
    {
      "cell_type": "code",
      "source": [
        "loss_function = nn.CrossEntropyLoss()"
      ],
      "metadata": {
        "id": "5fI1jCu2ZsAe"
      },
      "execution_count": 9,
      "outputs": []
    },
    {
      "cell_type": "markdown",
      "source": [
        "**Training and test loop for the Lenet-tanh network**"
      ],
      "metadata": {
        "id": "5t1R6aycTpv9"
      }
    },
    {
      "cell_type": "code",
      "source": [
        "def train_loop(dataloader, model,loss_function, optimizer, batch_size):\n",
        "  size = len(dataloader.dataset)\n",
        "  model.train()\n",
        "  for batch, (X,y) in enumerate(dataloader):\n",
        "    # Compute prediction and loss\n",
        "    pred = model(X)\n",
        "    loss = loss_function(pred,y)\n",
        "\n",
        "    # BackPropagation\n",
        "    loss.backward()\n",
        "    optimizer.step()\n",
        "    optimizer.zero_grad()\n",
        "\n",
        "    if batch % 100 == 0:\n",
        "      loss, current = loss.item(), batch * batch_size + len(X)\n",
        "      print(f'loss: {loss:>7f}  [{current:>5d}/ {size:>5d}]')\n",
        "\n",
        "\n",
        "def test_loop(dataloader, model, loss_function):\n",
        "  model.eval()\n",
        "  size = len(dataloader.dataset)\n",
        "  num_batches = len(dataloader)\n",
        "  test_loss, correct = 0,0\n",
        "\n",
        "\n",
        "  with torch.no_grad():\n",
        "    for X,y in dataloader:\n",
        "      pred = model(X)\n",
        "      test_loss += loss_function(pred,y).item()\n",
        "      correct += (pred.argmax(1) ==  y).type(torch.float).sum().item()\n",
        "\n",
        "  test_loss  /= num_batches\n",
        "  correct /= size\n",
        "  print(f'Test Error: |n Accuracy: {(100*correct):>0.1f}%, Avg loss: {test_loss:8f}\\n')"
      ],
      "metadata": {
        "id": "E0UUXu__Z8qR"
      },
      "execution_count": 10,
      "outputs": []
    },
    {
      "cell_type": "markdown",
      "source": [
        "**Training and Test logs**"
      ],
      "metadata": {
        "id": "LpexWIJ0XZU6"
      }
    },
    {
      "cell_type": "code",
      "source": [
        "loss_function = nn.CrossEntropyLoss()\n",
        "optimizer = torch.optim.Adam(model.parameters(), lr=0.001)\n",
        "\n",
        "epochs=10\n",
        "for t in range(epochs):\n",
        "  print(f'Epoch {t+1}\\n-------------------')\n",
        "  train_loop(training_dataloader, model, loss_function, optimizer, batch_size=64)\n",
        "  test_loop(testing_dataloader, model, loss_function)\n",
        "\n",
        "print('Done')"
      ],
      "metadata": {
        "colab": {
          "base_uri": "https://localhost:8080/"
        },
        "id": "jBvkb5_LavO6",
        "outputId": "ffc7adb1-3993-4009-e592-e026fa042db2"
      },
      "execution_count": 11,
      "outputs": [
        {
          "output_type": "stream",
          "name": "stdout",
          "text": [
            "Epoch 1\n",
            "-------------------\n",
            "loss: 2.305565  [   64/ 60000]\n",
            "loss: 0.413512  [ 6464/ 60000]\n",
            "loss: 0.314488  [12864/ 60000]\n",
            "loss: 0.255386  [19264/ 60000]\n",
            "loss: 0.171145  [25664/ 60000]\n",
            "loss: 0.225450  [32064/ 60000]\n",
            "loss: 0.108651  [38464/ 60000]\n",
            "loss: 0.251609  [44864/ 60000]\n",
            "loss: 0.200686  [51264/ 60000]\n",
            "loss: 0.215871  [57664/ 60000]\n",
            "Test Error: |n Accuracy: 95.5%, Avg loss: 0.142383\n",
            "\n",
            "Epoch 2\n",
            "-------------------\n",
            "loss: 0.082085  [   64/ 60000]\n",
            "loss: 0.136522  [ 6464/ 60000]\n",
            "loss: 0.117518  [12864/ 60000]\n",
            "loss: 0.099069  [19264/ 60000]\n",
            "loss: 0.063038  [25664/ 60000]\n",
            "loss: 0.107098  [32064/ 60000]\n",
            "loss: 0.034772  [38464/ 60000]\n",
            "loss: 0.117531  [44864/ 60000]\n",
            "loss: 0.180575  [51264/ 60000]\n",
            "loss: 0.168188  [57664/ 60000]\n",
            "Test Error: |n Accuracy: 97.1%, Avg loss: 0.090448\n",
            "\n",
            "Epoch 3\n",
            "-------------------\n",
            "loss: 0.039828  [   64/ 60000]\n",
            "loss: 0.126597  [ 6464/ 60000]\n",
            "loss: 0.055520  [12864/ 60000]\n",
            "loss: 0.062385  [19264/ 60000]\n",
            "loss: 0.064438  [25664/ 60000]\n",
            "loss: 0.088162  [32064/ 60000]\n",
            "loss: 0.019136  [38464/ 60000]\n",
            "loss: 0.073752  [44864/ 60000]\n",
            "loss: 0.159781  [51264/ 60000]\n",
            "loss: 0.130987  [57664/ 60000]\n",
            "Test Error: |n Accuracy: 97.6%, Avg loss: 0.071965\n",
            "\n",
            "Epoch 4\n",
            "-------------------\n",
            "loss: 0.016337  [   64/ 60000]\n",
            "loss: 0.095475  [ 6464/ 60000]\n",
            "loss: 0.047497  [12864/ 60000]\n",
            "loss: 0.063379  [19264/ 60000]\n",
            "loss: 0.068600  [25664/ 60000]\n",
            "loss: 0.039317  [32064/ 60000]\n",
            "loss: 0.012975  [38464/ 60000]\n",
            "loss: 0.041681  [44864/ 60000]\n",
            "loss: 0.152405  [51264/ 60000]\n",
            "loss: 0.101626  [57664/ 60000]\n",
            "Test Error: |n Accuracy: 97.9%, Avg loss: 0.066150\n",
            "\n",
            "Epoch 5\n",
            "-------------------\n",
            "loss: 0.012558  [   64/ 60000]\n",
            "loss: 0.064280  [ 6464/ 60000]\n",
            "loss: 0.035930  [12864/ 60000]\n",
            "loss: 0.044885  [19264/ 60000]\n",
            "loss: 0.054063  [25664/ 60000]\n",
            "loss: 0.019229  [32064/ 60000]\n",
            "loss: 0.011144  [38464/ 60000]\n",
            "loss: 0.017252  [44864/ 60000]\n",
            "loss: 0.147271  [51264/ 60000]\n",
            "loss: 0.066658  [57664/ 60000]\n",
            "Test Error: |n Accuracy: 98.1%, Avg loss: 0.063360\n",
            "\n",
            "Epoch 6\n",
            "-------------------\n",
            "loss: 0.008742  [   64/ 60000]\n",
            "loss: 0.028331  [ 6464/ 60000]\n",
            "loss: 0.027329  [12864/ 60000]\n",
            "loss: 0.047739  [19264/ 60000]\n",
            "loss: 0.039301  [25664/ 60000]\n",
            "loss: 0.012897  [32064/ 60000]\n",
            "loss: 0.033578  [38464/ 60000]\n",
            "loss: 0.029655  [44864/ 60000]\n",
            "loss: 0.151967  [51264/ 60000]\n",
            "loss: 0.043104  [57664/ 60000]\n",
            "Test Error: |n Accuracy: 98.1%, Avg loss: 0.061091\n",
            "\n",
            "Epoch 7\n",
            "-------------------\n",
            "loss: 0.007293  [   64/ 60000]\n",
            "loss: 0.013008  [ 6464/ 60000]\n",
            "loss: 0.013655  [12864/ 60000]\n",
            "loss: 0.036609  [19264/ 60000]\n",
            "loss: 0.037441  [25664/ 60000]\n",
            "loss: 0.006244  [32064/ 60000]\n",
            "loss: 0.005990  [38464/ 60000]\n",
            "loss: 0.023304  [44864/ 60000]\n",
            "loss: 0.132120  [51264/ 60000]\n",
            "loss: 0.037218  [57664/ 60000]\n",
            "Test Error: |n Accuracy: 98.0%, Avg loss: 0.062065\n",
            "\n",
            "Epoch 8\n",
            "-------------------\n",
            "loss: 0.005673  [   64/ 60000]\n",
            "loss: 0.013273  [ 6464/ 60000]\n",
            "loss: 0.021770  [12864/ 60000]\n",
            "loss: 0.043061  [19264/ 60000]\n",
            "loss: 0.027801  [25664/ 60000]\n",
            "loss: 0.009608  [32064/ 60000]\n",
            "loss: 0.008144  [38464/ 60000]\n",
            "loss: 0.021764  [44864/ 60000]\n",
            "loss: 0.099824  [51264/ 60000]\n",
            "loss: 0.017481  [57664/ 60000]\n",
            "Test Error: |n Accuracy: 98.2%, Avg loss: 0.060239\n",
            "\n",
            "Epoch 9\n",
            "-------------------\n",
            "loss: 0.002679  [   64/ 60000]\n",
            "loss: 0.006863  [ 6464/ 60000]\n",
            "loss: 0.010694  [12864/ 60000]\n",
            "loss: 0.034026  [19264/ 60000]\n",
            "loss: 0.007071  [25664/ 60000]\n",
            "loss: 0.002951  [32064/ 60000]\n",
            "loss: 0.003795  [38464/ 60000]\n",
            "loss: 0.022969  [44864/ 60000]\n",
            "loss: 0.116519  [51264/ 60000]\n",
            "loss: 0.036295  [57664/ 60000]\n",
            "Test Error: |n Accuracy: 98.0%, Avg loss: 0.071719\n",
            "\n",
            "Epoch 10\n",
            "-------------------\n",
            "loss: 0.017148  [   64/ 60000]\n",
            "loss: 0.010824  [ 6464/ 60000]\n",
            "loss: 0.004770  [12864/ 60000]\n",
            "loss: 0.003085  [19264/ 60000]\n",
            "loss: 0.004876  [25664/ 60000]\n",
            "loss: 0.004081  [32064/ 60000]\n",
            "loss: 0.024525  [38464/ 60000]\n",
            "loss: 0.009197  [44864/ 60000]\n",
            "loss: 0.102453  [51264/ 60000]\n",
            "loss: 0.010262  [57664/ 60000]\n",
            "Test Error: |n Accuracy: 98.1%, Avg loss: 0.066170\n",
            "\n",
            "Done\n"
          ]
        }
      ]
    },
    {
      "cell_type": "markdown",
      "source": [
        "**LeNet 5 ReLU network**"
      ],
      "metadata": {
        "id": "IWOx0LyPXuyT"
      }
    },
    {
      "cell_type": "code",
      "source": [
        "class LeNet5Relu(nn.Module):\n",
        "  def __init__(self):\n",
        "    super().__init__()\n",
        "    self.feature = nn.Sequential(\n",
        "        #First layer\n",
        "        nn.Conv2d(in_channels=1, out_channels=6, kernel_size=5, stride=1, padding=2),\n",
        "        nn.ReLU(),\n",
        "        nn.AvgPool2d(kernel_size=2, stride=2),\n",
        "\n",
        "        # Second layer\n",
        "        nn.Conv2d(in_channels=6, out_channels=16, kernel_size=5, stride=1),\n",
        "        nn.ReLU(),\n",
        "        nn.AvgPool2d(kernel_size=2, stride=2),\n",
        "\n",
        "    )\n",
        "\n",
        "    self.classifier = nn.Sequential(\n",
        "        nn.Flatten(),\n",
        "        nn.Linear(in_features=16*5*5,out_features=120),\n",
        "        nn.ReLU(),\n",
        "        nn.Linear(in_features=120,out_features=84),\n",
        "        nn.ReLU(),\n",
        "        nn.Linear(in_features=84, out_features=10),\n",
        "\n",
        "    )\n",
        "\n",
        "  def forward(self,x):\n",
        "    return self.classifier(self.feature(x))\n",
        "\n",
        "model_relu=LeNet5Relu()"
      ],
      "metadata": {
        "id": "ST4Waf-AeYiV"
      },
      "execution_count": 12,
      "outputs": []
    },
    {
      "cell_type": "code",
      "source": [
        "summary(model_relu, input_size=(1,28,28))"
      ],
      "metadata": {
        "colab": {
          "base_uri": "https://localhost:8080/"
        },
        "id": "idcrTFVPhUxJ",
        "outputId": "dfc8840d-a865-4ae6-96e3-3b165155bb24"
      },
      "execution_count": 13,
      "outputs": [
        {
          "output_type": "stream",
          "name": "stdout",
          "text": [
            "----------------------------------------------------------------\n",
            "        Layer (type)               Output Shape         Param #\n",
            "================================================================\n",
            "            Conv2d-1            [-1, 6, 28, 28]             156\n",
            "              ReLU-2            [-1, 6, 28, 28]               0\n",
            "         AvgPool2d-3            [-1, 6, 14, 14]               0\n",
            "            Conv2d-4           [-1, 16, 10, 10]           2,416\n",
            "              ReLU-5           [-1, 16, 10, 10]               0\n",
            "         AvgPool2d-6             [-1, 16, 5, 5]               0\n",
            "           Flatten-7                  [-1, 400]               0\n",
            "            Linear-8                  [-1, 120]          48,120\n",
            "              ReLU-9                  [-1, 120]               0\n",
            "           Linear-10                   [-1, 84]          10,164\n",
            "             ReLU-11                   [-1, 84]               0\n",
            "           Linear-12                   [-1, 10]             850\n",
            "================================================================\n",
            "Total params: 61,706\n",
            "Trainable params: 61,706\n",
            "Non-trainable params: 0\n",
            "----------------------------------------------------------------\n",
            "Input size (MB): 0.00\n",
            "Forward/backward pass size (MB): 0.11\n",
            "Params size (MB): 0.24\n",
            "Estimated Total Size (MB): 0.35\n",
            "----------------------------------------------------------------\n"
          ]
        }
      ]
    },
    {
      "cell_type": "code",
      "source": [
        "def train_loop(dataloader, model_relu,loss_function, optimizer, batch_size):\n",
        "  size = len(dataloader.dataset)\n",
        "  model_relu.train()\n",
        "  for batch, (X,y) in enumerate(dataloader):\n",
        "    # Compute prediction and loss\n",
        "    pred = model_relu(X)\n",
        "    loss = loss_function(pred,y)\n",
        "\n",
        "    # BackPropagation\n",
        "    loss.backward()\n",
        "    optimizer.step()\n",
        "    optimizer.zero_grad()\n",
        "\n",
        "    if batch % 100 == 0:\n",
        "      loss, current = loss.item(), batch * batch_size + len(X)\n",
        "      print(f'loss: {loss:>7f}  [{current:>5d}/ {size:>5d}]')\n",
        "\n",
        "\n",
        "def test_loop(dataloader, model_relu, loss_fn):\n",
        "  model_relu.eval()\n",
        "  size = len(dataloader.dataset)\n",
        "  num_batches = len(dataloader)\n",
        "  test_loss, correct = 0,0\n",
        "\n",
        "\n",
        "  with torch.no_grad():\n",
        "    for X,y in dataloader:\n",
        "      pred = model_relu(X)\n",
        "      test_loss += loss_fn(pred,y).item()\n",
        "      correct += (pred.argmax(1) ==  y).type(torch.float).sum().item()\n",
        "\n",
        "  test_loss  /= num_batches\n",
        "  correct /= size\n",
        "  print(f'Test Error: |n Accuracy: {(100*correct):>0.1f}%, Avg loss: {test_loss:8f}\\n')"
      ],
      "metadata": {
        "id": "rGWazjWPhprB"
      },
      "execution_count": 14,
      "outputs": []
    },
    {
      "cell_type": "code",
      "source": [
        "loss_fn = nn.CrossEntropyLoss()\n",
        "optimizer = torch.optim.Adam(model_relu.parameters(), lr= 0.001)\n",
        "\n",
        "epochs =  10\n",
        "for t in range(epochs):\n",
        "  print(f'Epoch {t+1}\\n--------------------')\n",
        "  train_loop(training_dataloader, model_relu, loss_function , optimizer, batch_size=64)\n",
        "  test_loop(testing_dataloader, model_relu, loss_function)\n",
        "\n",
        "print('Done')"
      ],
      "metadata": {
        "colab": {
          "base_uri": "https://localhost:8080/"
        },
        "id": "F6_fctmciLv1",
        "outputId": "ccf8e4f3-a09b-4211-bc9f-1100b293bc97"
      },
      "execution_count": 15,
      "outputs": [
        {
          "output_type": "stream",
          "name": "stdout",
          "text": [
            "Epoch 1\n",
            "--------------------\n",
            "loss: 2.305927  [   64/ 60000]\n",
            "loss: 0.504553  [ 6464/ 60000]\n",
            "loss: 0.335167  [12864/ 60000]\n",
            "loss: 0.303393  [19264/ 60000]\n",
            "loss: 0.239320  [25664/ 60000]\n",
            "loss: 0.269271  [32064/ 60000]\n",
            "loss: 0.250383  [38464/ 60000]\n",
            "loss: 0.360263  [44864/ 60000]\n",
            "loss: 0.258097  [51264/ 60000]\n",
            "loss: 0.206237  [57664/ 60000]\n",
            "Test Error: |n Accuracy: 95.2%, Avg loss: 0.150697\n",
            "\n",
            "Epoch 2\n",
            "--------------------\n",
            "loss: 0.108499  [   64/ 60000]\n",
            "loss: 0.162484  [ 6464/ 60000]\n",
            "loss: 0.083501  [12864/ 60000]\n",
            "loss: 0.187870  [19264/ 60000]\n",
            "loss: 0.078093  [25664/ 60000]\n",
            "loss: 0.094959  [32064/ 60000]\n",
            "loss: 0.062979  [38464/ 60000]\n",
            "loss: 0.169981  [44864/ 60000]\n",
            "loss: 0.218840  [51264/ 60000]\n",
            "loss: 0.125177  [57664/ 60000]\n",
            "Test Error: |n Accuracy: 96.9%, Avg loss: 0.101222\n",
            "\n",
            "Epoch 3\n",
            "--------------------\n",
            "loss: 0.099343  [   64/ 60000]\n",
            "loss: 0.128188  [ 6464/ 60000]\n",
            "loss: 0.060420  [12864/ 60000]\n",
            "loss: 0.164543  [19264/ 60000]\n",
            "loss: 0.073629  [25664/ 60000]\n",
            "loss: 0.071522  [32064/ 60000]\n",
            "loss: 0.054866  [38464/ 60000]\n",
            "loss: 0.144960  [44864/ 60000]\n",
            "loss: 0.195715  [51264/ 60000]\n",
            "loss: 0.079603  [57664/ 60000]\n",
            "Test Error: |n Accuracy: 97.4%, Avg loss: 0.080582\n",
            "\n",
            "Epoch 4\n",
            "--------------------\n",
            "loss: 0.082310  [   64/ 60000]\n",
            "loss: 0.115031  [ 6464/ 60000]\n",
            "loss: 0.067658  [12864/ 60000]\n",
            "loss: 0.161816  [19264/ 60000]\n",
            "loss: 0.038601  [25664/ 60000]\n",
            "loss: 0.055398  [32064/ 60000]\n",
            "loss: 0.046202  [38464/ 60000]\n",
            "loss: 0.093879  [44864/ 60000]\n",
            "loss: 0.160586  [51264/ 60000]\n",
            "loss: 0.049506  [57664/ 60000]\n",
            "Test Error: |n Accuracy: 98.2%, Avg loss: 0.055088\n",
            "\n",
            "Epoch 5\n",
            "--------------------\n",
            "loss: 0.036513  [   64/ 60000]\n",
            "loss: 0.086489  [ 6464/ 60000]\n",
            "loss: 0.071575  [12864/ 60000]\n",
            "loss: 0.142296  [19264/ 60000]\n",
            "loss: 0.024910  [25664/ 60000]\n",
            "loss: 0.040745  [32064/ 60000]\n",
            "loss: 0.047339  [38464/ 60000]\n",
            "loss: 0.034462  [44864/ 60000]\n",
            "loss: 0.131677  [51264/ 60000]\n",
            "loss: 0.031796  [57664/ 60000]\n",
            "Test Error: |n Accuracy: 98.6%, Avg loss: 0.042966\n",
            "\n",
            "Epoch 6\n",
            "--------------------\n",
            "loss: 0.032036  [   64/ 60000]\n",
            "loss: 0.070579  [ 6464/ 60000]\n",
            "loss: 0.095715  [12864/ 60000]\n",
            "loss: 0.158703  [19264/ 60000]\n",
            "loss: 0.021109  [25664/ 60000]\n",
            "loss: 0.032917  [32064/ 60000]\n",
            "loss: 0.047655  [38464/ 60000]\n",
            "loss: 0.022035  [44864/ 60000]\n",
            "loss: 0.109665  [51264/ 60000]\n",
            "loss: 0.033519  [57664/ 60000]\n",
            "Test Error: |n Accuracy: 98.7%, Avg loss: 0.040162\n",
            "\n",
            "Epoch 7\n",
            "--------------------\n",
            "loss: 0.028522  [   64/ 60000]\n",
            "loss: 0.049361  [ 6464/ 60000]\n",
            "loss: 0.083193  [12864/ 60000]\n",
            "loss: 0.115230  [19264/ 60000]\n",
            "loss: 0.014763  [25664/ 60000]\n",
            "loss: 0.021790  [32064/ 60000]\n",
            "loss: 0.043797  [38464/ 60000]\n",
            "loss: 0.008861  [44864/ 60000]\n",
            "loss: 0.108573  [51264/ 60000]\n",
            "loss: 0.034195  [57664/ 60000]\n",
            "Test Error: |n Accuracy: 98.7%, Avg loss: 0.042233\n",
            "\n",
            "Epoch 8\n",
            "--------------------\n",
            "loss: 0.065921  [   64/ 60000]\n",
            "loss: 0.046692  [ 6464/ 60000]\n",
            "loss: 0.080814  [12864/ 60000]\n",
            "loss: 0.035615  [19264/ 60000]\n",
            "loss: 0.008431  [25664/ 60000]\n",
            "loss: 0.024920  [32064/ 60000]\n",
            "loss: 0.038184  [38464/ 60000]\n",
            "loss: 0.006593  [44864/ 60000]\n",
            "loss: 0.087067  [51264/ 60000]\n",
            "loss: 0.017889  [57664/ 60000]\n",
            "Test Error: |n Accuracy: 98.6%, Avg loss: 0.046330\n",
            "\n",
            "Epoch 9\n",
            "--------------------\n",
            "loss: 0.041465  [   64/ 60000]\n",
            "loss: 0.005168  [ 6464/ 60000]\n",
            "loss: 0.043445  [12864/ 60000]\n",
            "loss: 0.061891  [19264/ 60000]\n",
            "loss: 0.012739  [25664/ 60000]\n",
            "loss: 0.011894  [32064/ 60000]\n",
            "loss: 0.023145  [38464/ 60000]\n",
            "loss: 0.004173  [44864/ 60000]\n",
            "loss: 0.131892  [51264/ 60000]\n",
            "loss: 0.020131  [57664/ 60000]\n",
            "Test Error: |n Accuracy: 98.7%, Avg loss: 0.044034\n",
            "\n",
            "Epoch 10\n",
            "--------------------\n",
            "loss: 0.020818  [   64/ 60000]\n",
            "loss: 0.027816  [ 6464/ 60000]\n",
            "loss: 0.039738  [12864/ 60000]\n",
            "loss: 0.006478  [19264/ 60000]\n",
            "loss: 0.010359  [25664/ 60000]\n",
            "loss: 0.002662  [32064/ 60000]\n",
            "loss: 0.003672  [38464/ 60000]\n",
            "loss: 0.009886  [44864/ 60000]\n",
            "loss: 0.089749  [51264/ 60000]\n",
            "loss: 0.014368  [57664/ 60000]\n",
            "Test Error: |n Accuracy: 98.8%, Avg loss: 0.039511\n",
            "\n",
            "Done\n"
          ]
        }
      ]
    },
    {
      "cell_type": "markdown",
      "source": [
        "**LeNet Leaky ReLU network**"
      ],
      "metadata": {
        "id": "VkqHgaPcYqn2"
      }
    },
    {
      "cell_type": "code",
      "source": [
        "class LeNet5LRelu(nn.Module):\n",
        "  def __init__(self):\n",
        "    super().__init__()\n",
        "    self.feature = nn.Sequential(\n",
        "        #First layer\n",
        "        nn.Conv2d(in_channels=1, out_channels=6, kernel_size=5, stride=1, padding=2),\n",
        "        nn.LeakyReLU(negative_slope=0.01),\n",
        "        nn.AvgPool2d(kernel_size=2, stride=2),\n",
        "\n",
        "        # Second layer\n",
        "        nn.Conv2d(in_channels=6, out_channels=16, kernel_size=5, stride=1),\n",
        "        nn.LeakyReLU(negative_slope=0.01),\n",
        "        nn.AvgPool2d(kernel_size=2, stride=2),\n",
        "\n",
        "    )\n",
        "\n",
        "    self.classifier = nn.Sequential(\n",
        "        nn.Flatten(),\n",
        "        nn.Linear(in_features=16*5*5,out_features=120),\n",
        "        nn.LeakyReLU(negative_slope=0.01),\n",
        "        nn.Linear(in_features=120,out_features=84),\n",
        "        nn.LeakyReLU(negative_slope=0.01),\n",
        "        nn.Linear(in_features=84, out_features=10),\n",
        "\n",
        "    )\n",
        "\n",
        "  def forward(self,x):\n",
        "    return self.classifier(self.feature(x))\n",
        "\n",
        "model_Lrelu=LeNet5LRelu()"
      ],
      "metadata": {
        "id": "gNVUJRqbkyR1"
      },
      "execution_count": 16,
      "outputs": []
    },
    {
      "cell_type": "code",
      "source": [
        "from torchsummary import summary\n",
        "summary(model_Lrelu, input_size=(1,28,28))"
      ],
      "metadata": {
        "colab": {
          "base_uri": "https://localhost:8080/"
        },
        "id": "byeWG3CTnE_B",
        "outputId": "b619b3f3-cf76-4d44-dd27-e74234da74e8"
      },
      "execution_count": 17,
      "outputs": [
        {
          "output_type": "stream",
          "name": "stdout",
          "text": [
            "----------------------------------------------------------------\n",
            "        Layer (type)               Output Shape         Param #\n",
            "================================================================\n",
            "            Conv2d-1            [-1, 6, 28, 28]             156\n",
            "         LeakyReLU-2            [-1, 6, 28, 28]               0\n",
            "         AvgPool2d-3            [-1, 6, 14, 14]               0\n",
            "            Conv2d-4           [-1, 16, 10, 10]           2,416\n",
            "         LeakyReLU-5           [-1, 16, 10, 10]               0\n",
            "         AvgPool2d-6             [-1, 16, 5, 5]               0\n",
            "           Flatten-7                  [-1, 400]               0\n",
            "            Linear-8                  [-1, 120]          48,120\n",
            "         LeakyReLU-9                  [-1, 120]               0\n",
            "           Linear-10                   [-1, 84]          10,164\n",
            "        LeakyReLU-11                   [-1, 84]               0\n",
            "           Linear-12                   [-1, 10]             850\n",
            "================================================================\n",
            "Total params: 61,706\n",
            "Trainable params: 61,706\n",
            "Non-trainable params: 0\n",
            "----------------------------------------------------------------\n",
            "Input size (MB): 0.00\n",
            "Forward/backward pass size (MB): 0.11\n",
            "Params size (MB): 0.24\n",
            "Estimated Total Size (MB): 0.35\n",
            "----------------------------------------------------------------\n"
          ]
        }
      ]
    },
    {
      "cell_type": "code",
      "source": [
        "def train_loop(dataloader, model_Lrelu,loss_function, optimizer, batch_size):\n",
        "  size = len(dataloader.dataset)\n",
        "  model_Lrelu.train()\n",
        "  for batch, (X,y) in enumerate(dataloader):\n",
        "    # Compute prediction and loss\n",
        "    pred = model_Lrelu(X)\n",
        "    loss = loss_function(pred,y)\n",
        "\n",
        "    # BackPropagation\n",
        "    loss.backward()\n",
        "    optimizer.step()\n",
        "    optimizer.zero_grad()\n",
        "\n",
        "    if batch % 100 == 0:\n",
        "      loss, current = loss.item(), batch * batch_size + len(X)\n",
        "      print(f'loss: {loss:>7f}  [{current:>5d}/ {size:>5d}]')\n",
        "\n",
        "\n",
        "def test_loop(dataloader, model_Lrelu, loss_fn):\n",
        "  model_Lrelu.eval()\n",
        "  size = len(dataloader.dataset)\n",
        "  num_batches = len(dataloader)\n",
        "  test_loss, correct = 0,0\n",
        "\n",
        "\n",
        "  with torch.no_grad():\n",
        "    for X,y in dataloader:\n",
        "      pred = model_Lrelu(X)\n",
        "      test_loss += loss_fn(pred,y).item()\n",
        "      correct += (pred.argmax(1) ==  y).type(torch.float).sum().item()\n",
        "\n",
        "  test_loss  /= num_batches\n",
        "  correct /= size\n",
        "  print(f'Test Error: |n Accuracy: {(100*correct):>0.1f}%, Avg loss: {test_loss:8f}\\n')"
      ],
      "metadata": {
        "id": "p5tX3fuFnE49"
      },
      "execution_count": 21,
      "outputs": []
    },
    {
      "cell_type": "code",
      "source": [
        "loss_function = nn.CrossEntropyLoss()\n",
        "optimizer =  torch.optim.Adam(model_Lrelu.parameters(), lr=0.001)\n",
        "\n",
        "epochs = 10\n",
        "for t in range(epochs):\n",
        "  print(f'Epoch {t+1}\\n--------')\n",
        "  train_loop(training_dataloader, model_Lrelu, loss_function, optimizer, batch_size=64)\n",
        "  test_loop(testing_dataloader, model_Lrelu, loss_function)\n",
        "\n",
        "\n",
        "print('Done')"
      ],
      "metadata": {
        "colab": {
          "base_uri": "https://localhost:8080/"
        },
        "id": "pv9Ck7OO7WhR",
        "outputId": "b97fcfe5-4fd4-4438-8224-228e65b5aae7"
      },
      "execution_count": 22,
      "outputs": [
        {
          "output_type": "stream",
          "name": "stdout",
          "text": [
            "Epoch 1\n",
            "--------\n",
            "loss: 0.000789  [   64/ 60000]\n",
            "loss: 0.006471  [ 6464/ 60000]\n",
            "loss: 0.120921  [12864/ 60000]\n",
            "loss: 0.007563  [19264/ 60000]\n",
            "loss: 0.008753  [25664/ 60000]\n",
            "loss: 0.063093  [32064/ 60000]\n",
            "loss: 0.013394  [38464/ 60000]\n",
            "loss: 0.019843  [44864/ 60000]\n",
            "loss: 0.113356  [51264/ 60000]\n",
            "loss: 0.056855  [57664/ 60000]\n",
            "Test Error: |n Accuracy: 98.8%, Avg loss: 0.041814\n",
            "\n",
            "Epoch 2\n",
            "--------\n",
            "loss: 0.004158  [   64/ 60000]\n",
            "loss: 0.006345  [ 6464/ 60000]\n",
            "loss: 0.013209  [12864/ 60000]\n",
            "loss: 0.005051  [19264/ 60000]\n",
            "loss: 0.040791  [25664/ 60000]\n",
            "loss: 0.002111  [32064/ 60000]\n",
            "loss: 0.009800  [38464/ 60000]\n",
            "loss: 0.002144  [44864/ 60000]\n",
            "loss: 0.048910  [51264/ 60000]\n",
            "loss: 0.001807  [57664/ 60000]\n",
            "Test Error: |n Accuracy: 98.9%, Avg loss: 0.041119\n",
            "\n",
            "Epoch 3\n",
            "--------\n",
            "loss: 0.008051  [   64/ 60000]\n",
            "loss: 0.001028  [ 6464/ 60000]\n",
            "loss: 0.017100  [12864/ 60000]\n",
            "loss: 0.016195  [19264/ 60000]\n",
            "loss: 0.002362  [25664/ 60000]\n",
            "loss: 0.009434  [32064/ 60000]\n",
            "loss: 0.015923  [38464/ 60000]\n",
            "loss: 0.003995  [44864/ 60000]\n",
            "loss: 0.112165  [51264/ 60000]\n",
            "loss: 0.004308  [57664/ 60000]\n",
            "Test Error: |n Accuracy: 99.0%, Avg loss: 0.037025\n",
            "\n",
            "Epoch 4\n",
            "--------\n",
            "loss: 0.003665  [   64/ 60000]\n",
            "loss: 0.007139  [ 6464/ 60000]\n",
            "loss: 0.017232  [12864/ 60000]\n",
            "loss: 0.011684  [19264/ 60000]\n",
            "loss: 0.056769  [25664/ 60000]\n",
            "loss: 0.004081  [32064/ 60000]\n",
            "loss: 0.002635  [38464/ 60000]\n",
            "loss: 0.000813  [44864/ 60000]\n",
            "loss: 0.108365  [51264/ 60000]\n",
            "loss: 0.052832  [57664/ 60000]\n",
            "Test Error: |n Accuracy: 98.9%, Avg loss: 0.041234\n",
            "\n",
            "Epoch 5\n",
            "--------\n",
            "loss: 0.002498  [   64/ 60000]\n",
            "loss: 0.002097  [ 6464/ 60000]\n",
            "loss: 0.008957  [12864/ 60000]\n",
            "loss: 0.000286  [19264/ 60000]\n",
            "loss: 0.008035  [25664/ 60000]\n",
            "loss: 0.007335  [32064/ 60000]\n",
            "loss: 0.011121  [38464/ 60000]\n",
            "loss: 0.001000  [44864/ 60000]\n",
            "loss: 0.009012  [51264/ 60000]\n",
            "loss: 0.000692  [57664/ 60000]\n",
            "Test Error: |n Accuracy: 99.0%, Avg loss: 0.039076\n",
            "\n",
            "Epoch 6\n",
            "--------\n",
            "loss: 0.004767  [   64/ 60000]\n",
            "loss: 0.022650  [ 6464/ 60000]\n",
            "loss: 0.011871  [12864/ 60000]\n",
            "loss: 0.000636  [19264/ 60000]\n",
            "loss: 0.001220  [25664/ 60000]\n",
            "loss: 0.000599  [32064/ 60000]\n",
            "loss: 0.001750  [38464/ 60000]\n",
            "loss: 0.003443  [44864/ 60000]\n",
            "loss: 0.090283  [51264/ 60000]\n",
            "loss: 0.002721  [57664/ 60000]\n",
            "Test Error: |n Accuracy: 98.9%, Avg loss: 0.041822\n",
            "\n",
            "Epoch 7\n",
            "--------\n",
            "loss: 0.001191  [   64/ 60000]\n",
            "loss: 0.000767  [ 6464/ 60000]\n",
            "loss: 0.010539  [12864/ 60000]\n",
            "loss: 0.000540  [19264/ 60000]\n",
            "loss: 0.001211  [25664/ 60000]\n",
            "loss: 0.001679  [32064/ 60000]\n",
            "loss: 0.001880  [38464/ 60000]\n",
            "loss: 0.001680  [44864/ 60000]\n",
            "loss: 0.039226  [51264/ 60000]\n",
            "loss: 0.004297  [57664/ 60000]\n",
            "Test Error: |n Accuracy: 98.7%, Avg loss: 0.055969\n",
            "\n",
            "Epoch 8\n",
            "--------\n",
            "loss: 0.002008  [   64/ 60000]\n",
            "loss: 0.001876  [ 6464/ 60000]\n",
            "loss: 0.001179  [12864/ 60000]\n",
            "loss: 0.001093  [19264/ 60000]\n",
            "loss: 0.001125  [25664/ 60000]\n",
            "loss: 0.000132  [32064/ 60000]\n",
            "loss: 0.002043  [38464/ 60000]\n",
            "loss: 0.000434  [44864/ 60000]\n",
            "loss: 0.146115  [51264/ 60000]\n",
            "loss: 0.027246  [57664/ 60000]\n",
            "Test Error: |n Accuracy: 99.0%, Avg loss: 0.046194\n",
            "\n",
            "Epoch 9\n",
            "--------\n",
            "loss: 0.129650  [   64/ 60000]\n",
            "loss: 0.011351  [ 6464/ 60000]\n",
            "loss: 0.049678  [12864/ 60000]\n",
            "loss: 0.001033  [19264/ 60000]\n",
            "loss: 0.000325  [25664/ 60000]\n",
            "loss: 0.000432  [32064/ 60000]\n",
            "loss: 0.006501  [38464/ 60000]\n",
            "loss: 0.001235  [44864/ 60000]\n",
            "loss: 0.090249  [51264/ 60000]\n",
            "loss: 0.000170  [57664/ 60000]\n",
            "Test Error: |n Accuracy: 99.0%, Avg loss: 0.048730\n",
            "\n",
            "Epoch 10\n",
            "--------\n",
            "loss: 0.001702  [   64/ 60000]\n",
            "loss: 0.004934  [ 6464/ 60000]\n",
            "loss: 0.007242  [12864/ 60000]\n",
            "loss: 0.267448  [19264/ 60000]\n",
            "loss: 0.000433  [25664/ 60000]\n",
            "loss: 0.000782  [32064/ 60000]\n",
            "loss: 0.000152  [38464/ 60000]\n",
            "loss: 0.001786  [44864/ 60000]\n",
            "loss: 0.029998  [51264/ 60000]\n",
            "loss: 0.001651  [57664/ 60000]\n",
            "Test Error: |n Accuracy: 99.0%, Avg loss: 0.045576\n",
            "\n",
            "Done\n"
          ]
        }
      ]
    },
    {
      "cell_type": "markdown",
      "source": [
        "**Visualizing the Loss of the three networks**\n",
        "\n",
        "\n",
        "\n",
        "\n",
        "\n"
      ],
      "metadata": {
        "id": "lUHC--TSY7TF"
      }
    },
    {
      "cell_type": "code",
      "source": [
        "import matplotlib.pyplot as plt\n",
        "epochs = list(range(1,11))\n",
        "\n",
        "\n",
        "Lrelu_test_loss = [0.04184,0.041119,0.037025,0.041234,0.039076,0.041822,0.055969,0.046194,0.048730,0.045576]\n",
        "relu_test_loss = [0.150697,0.101222,0.080582,0.055088,0.042966,0.040162,0.042233,0.046330,0.044034,0.03951]\n",
        "tanh_test_loss = [0.142383,0.090448,0.071965,0.066150,0.063360,0.061091,0.062065,0.060239,0.071719,0.066170]\n",
        "\n",
        "\n",
        "plt.figure(figsize=(10,6))\n",
        "plt.plot(epochs, relu_test_loss,'b-o', label='ReLU')\n",
        "plt.plot(epochs, tanh_test_loss, 'g-s', label='Tanh')\n",
        "plt.plot(epochs, Lrelu_test_loss , 'r-^', label='L-Relu')\n",
        "\n",
        "plt.title('Activation Test Loss Comparison')\n",
        "plt.xlabel('Epoch')\n",
        "plt.ylabel('Test Loss')\n",
        "plt.legend()\n",
        "plt.grid(True)\n",
        "\n",
        "plt.show()"
      ],
      "metadata": {
        "colab": {
          "base_uri": "https://localhost:8080/",
          "height": 423
        },
        "id": "EJyopbuR7WT0",
        "outputId": "8186dbda-407f-4524-e4bc-32615eb0663e"
      },
      "execution_count": 24,
      "outputs": [
        {
          "output_type": "display_data",
          "data": {
            "text/plain": [
              "<Figure size 1000x600 with 1 Axes>"
            ],
            "image/png": "[encoded data removed]"
          },
          "metadata": {}
        }
      ]
    }
  ]
}